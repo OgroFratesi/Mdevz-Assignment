{
 "cells": [
  {
   "cell_type": "code",
   "execution_count": 2,
   "id": "d7da2528",
   "metadata": {},
   "outputs": [],
   "source": [
    "import math\n",
    "\n",
    "def average(x):\n",
    "    assert len(x) > 0\n",
    "    return float(sum(x)) / len(x)\n",
    "\n",
    "def pearson_def(x, y):\n",
    "    assert len(x) == len(y)\n",
    "    n = len(x)\n",
    "    assert n > 0\n",
    "    avg_x = average(x)\n",
    "    avg_y = average(y)\n",
    "    diffprod = 0\n",
    "    xdiff2 = 0\n",
    "    ydiff2 = 0\n",
    "    for idx in range(n):\n",
    "        xdiff = x[idx] - avg_x\n",
    "        ydiff = y[idx] - avg_y\n",
    "        diffprod += xdiff * ydiff\n",
    "        xdiff2 += xdiff * xdiff\n",
    "        ydiff2 += ydiff * ydiff\n",
    "    \n",
    "    return diffprod / math.sqrt(xdiff2 * ydiff2)"
   ]
  },
  {
   "cell_type": "markdown",
   "id": "87ddd77c",
   "metadata": {},
   "source": [
    "# Permutation test for correlation"
   ]
  },
  {
   "cell_type": "code",
   "execution_count": 1,
   "id": "5ffe3eb3",
   "metadata": {},
   "outputs": [],
   "source": [
    "x = [2,4,5,6,7,12]\n",
    "y = [18,22,17,18,14,13]"
   ]
  },
  {
   "cell_type": "markdown",
   "id": "e321974b",
   "metadata": {},
   "source": [
    "# First we calculate the orginal correlation"
   ]
  },
  {
   "cell_type": "code",
   "execution_count": 4,
   "id": "f0dfe94f",
   "metadata": {},
   "outputs": [
    {
     "data": {
      "text/plain": [
       "-0.7465659667474605"
      ]
     },
     "execution_count": 4,
     "metadata": {},
     "output_type": "execute_result"
    }
   ],
   "source": [
    "org_cor = pearson_def(x, y)\n",
    "org_cor"
   ]
  },
  {
   "cell_type": "markdown",
   "id": "d05c73ac",
   "metadata": {},
   "source": [
    "# Now we implemente a permutation test. X values stay the same, while we are goinge to shuffle Y values, and calculate the correlation between this new set of data"
   ]
  },
  {
   "cell_type": "code",
   "execution_count": 62,
   "id": "0a778a6d",
   "metadata": {},
   "outputs": [],
   "source": [
    "# Create permutation function (recursive), so we input the list of values and it returns a list of all permutations\n",
    "# In this case 6! = 720 possible permutations\n",
    "\n",
    "# Python function to print permutations of a given list\n",
    "def permutation(list_values):\n",
    " \n",
    "    # If list_values is empty then there are no permutations\n",
    "    if len(list_values) == 0:\n",
    "        return []\n",
    " \n",
    "    # If there is only one element in list_values then, only\n",
    "    # one permutation is possible\n",
    "    if len(list_values) == 1:\n",
    "        return [list_values]\n",
    " \n",
    "    # Find the permutations for list_values if there are\n",
    "    # more than 1 characters\n",
    " \n",
    "    list_permutations = [] # empty list that will store current permutation\n",
    " \n",
    "    # Iterate the input(list_values) and calculate the permutation\n",
    "    for i in range(len(list_values)):\n",
    "        m = list_values[i]\n",
    " \n",
    "       # Extract list_values[i] or m from the list.  remlist_values is\n",
    "       # remaining list\n",
    "        remlist_values = list_values[:i] + list_values[i+1:]\n",
    " \n",
    "       # Generating all permutations where m is first\n",
    "       # element\n",
    "        for p in permutation(remlist_values):\n",
    "            list_permutations.append([m] + p)\n",
    "    return list_permutations"
   ]
  },
  {
   "cell_type": "code",
   "execution_count": 65,
   "id": "75688c52",
   "metadata": {},
   "outputs": [],
   "source": [
    "# Create the list of permutations\n",
    "\n",
    "list_permutations = permutation(y)\n",
    "\n",
    "permutation_correlations = []\n",
    "\n",
    "for new_y in list_permutations:\n",
    "    cor_perm = pearson_def(x, new_y)\n",
    "    permutation_correlations.append(cor_perm)"
   ]
  },
  {
   "cell_type": "code",
   "execution_count": 73,
   "id": "88f8f77e",
   "metadata": {},
   "outputs": [
    {
     "data": {
      "image/png": "[encoded data removed]",
      "text/plain": [
       "<Figure size 432x288 with 1 Axes>"
      ]
     },
     "metadata": {},
     "output_type": "display_data"
    }
   ],
   "source": [
    "# libraries & dataset\n",
    "import seaborn as sns\n",
    "import matplotlib.pyplot as plt\n",
    "# set a grey background (use sns.set_theme() if seaborn version 0.11.0 or above) \n",
    "sns.set(style=\"darkgrid\")\n",
    "\n",
    "sns.histplot(permutation_correlations)\n",
    "plt.axvline(-0.75, 80,0, color='red')\n",
    "plt.show()"
   ]
  },
  {
   "cell_type": "code",
   "execution_count": 81,
   "id": "d932c34c",
   "metadata": {},
   "outputs": [
    {
     "data": {
      "text/plain": [
       "3.3333333333333335"
      ]
     },
     "execution_count": 81,
     "metadata": {},
     "output_type": "execute_result"
    }
   ],
   "source": [
    "import numpy as np\n",
    "\n",
    "# What is the percentage of correlations below -0.75?\n",
    "\n",
    "len(np.where(np.array(permutation_correlations) < -0.75)[0])/ len(permutation_correlations) * 100"
   ]
  },
  {
   "cell_type": "markdown",
   "id": "3b5e460e",
   "metadata": {},
   "source": [
    "# New Conclusion: I really didn't remember this permutation test, and I have to say its a great way of testing correlations, and also testing means of two groups, skewness of two distributions and more kind of metrics. Furthermore, you don't need to make any assumption, like in t-test.  \n",
    "# So, now, looking at the histogram we can realize that the original correlation of -0.75 is on the left side of the distribution. The percentage of values below -0.75 is 3.3% .\n"
   ]
  }
 ],
 "metadata": {
  "kernelspec": {
   "display_name": "Python 3",
   "language": "python",
   "name": "python3"
  },
  "language_info": {
   "codemirror_mode": {
    "name": "ipython",
    "version": 3
   },
   "file_extension": ".py",
   "mimetype": "text/x-python",
   "name": "python",
   "nbconvert_exporter": "python",
   "pygments_lexer": "ipython3",
   "version": "3.8.8"
  },
  "toc": {
   "base_numbering": 1,
   "nav_menu": {},
   "number_sections": true,
   "sideBar": true,
   "skip_h1_title": false,
   "title_cell": "Table of Contents",
   "title_sidebar": "Contents",
   "toc_cell": false,
   "toc_position": {},
   "toc_section_display": true,
   "toc_window_display": false
  }
 },
 "nbformat": 4,
 "nbformat_minor": 5
}
